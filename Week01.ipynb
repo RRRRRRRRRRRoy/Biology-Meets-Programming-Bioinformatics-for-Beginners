{
 "cells": [
  {
   "cell_type": "code",
   "execution_count": 1,
   "metadata": {},
   "outputs": [],
   "source": [
    "# This is the notebook for Week1"
   ]
  }
 ],
 "metadata": {
  "interpreter": {
   "hash": "fc41597814ff85e0caced484d48bad3e0926c3d440aa194648a264b83f287c05"
  },
  "kernelspec": {
   "display_name": "Python 3.8.8 64-bit ('tf24': conda)",
   "language": "python",
   "name": "python3"
  },
  "language_info": {
   "codemirror_mode": {
    "name": "ipython",
    "version": 3
   },
   "file_extension": ".py",
   "mimetype": "text/x-python",
   "name": "python",
   "nbconvert_exporter": "python",
   "pygments_lexer": "ipython3",
   "version": "3.8.8"
  },
  "orig_nbformat": 4
 },
 "nbformat": 4,
 "nbformat_minor": 2
}
