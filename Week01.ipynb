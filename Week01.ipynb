{
 "cells": [
  {
   "cell_type": "code",
   "execution_count": 94,
   "metadata": {},
   "outputs": [],
   "source": [
    "# This is the notebook for Week1"
   ]
  },
  {
   "cell_type": "markdown",
   "metadata": {},
   "source": [
    "##### 1.2 Hidden Message in the Replication Origin"
   ]
  },
  {
   "cell_type": "markdown",
   "metadata": {},
   "source": [
    "###### 1.2.1 Printing the length of the String"
   ]
  },
  {
   "cell_type": "code",
   "execution_count": 95,
   "metadata": {},
   "outputs": [
    {
     "name": "stdout",
     "output_type": "stream",
     "text": [
      "540\n"
     ]
    }
   ],
   "source": [
    "# Printing the length of the String\n",
    "ori = \"ATCAATGATCAACGTAAGCTTCTAAGCATGATCAAGGTGCTCACACAGTTTATCCACAACCTGAGTGGATGACATCAAGATAGGTCGTTGTATCTCCTTCCTCTCGTACTCTCATGACCACGGAAAGATGATCAAGAGAGGATGATTTCTTGGCCATATCGCAATGAATACTTGTGACTTGTGCTTCCAATTGACATCTTCAGCGCCATATTGCGCTGGCCAAGGTGACGGAGCGGGATTACGAAAGCATGATCATGGCTGTTGTTCTGTTTATCTTGTTTTGACTGAGACTTGTTAGGATAGACGGTTTTTCATCACTGACTAGCCAAAGCCTTACTCTGCCTGACATCGACCGTAAATTGATAATGAATTTACATGCTTCCGCGACGATTTACCTCTTGATCATCGATCCGATTGAAGATCTTCAATTGTTAATTCTCTTGCCTCGACTCATAGCCATGATGAGCTCTTGATCATGTTTCCTTAACCCTCTATTTTTTACGGAAGAATGATCAAGCTGCTGCTCTTGATCATCGTTTC\"\n",
    "print(len(ori))"
   ]
  },
  {
   "cell_type": "markdown",
   "metadata": {},
   "source": [
    "###### 1.2.2 Printing the Pattern number in the Geno"
   ]
  },
  {
   "cell_type": "code",
   "execution_count": 96,
   "metadata": {},
   "outputs": [],
   "source": [
    "# Printing the Pattern number in the Geno\n",
    "def PatternCounter(Text, Pattern):\n",
    "    counter = 0\n",
    "    step = len(Pattern)\n",
    "    # This is the times of doing the comparison between the Text and the Pattern\n",
    "    for i in range(len(Text) - step + 1):\n",
    "        if Text[i:i+step] == Pattern:\n",
    "            counter += 1\n",
    "    return counter"
   ]
  },
  {
   "cell_type": "code",
   "execution_count": 97,
   "metadata": {},
   "outputs": [
    {
     "name": "stdout",
     "output_type": "stream",
     "text": [
      "Answer is Correct\n"
     ]
    }
   ],
   "source": [
    "#####################################################\n",
    "# Test for the PatternCounter\n",
    "# The answer is 2\n",
    "ori = 'ATCAATGATCAACGTAAGCTTCTAAGCATGATCAAGGTGCTCACACAGTTTATCCACAACCTGAGTGGATGACATCAAGATAGGTCGTTGTATCTCCTTCCTCTCGTACTCTCATGACCACGGAAAGATGATCAAGAGAGGATGATTTCTTGGCCATATCGCAATGAATACTTGTGACTTGTGCTTCCAATTGACATCTTCAGCGCCATATTGCGCTGGCCAAGGTGACGGAGCGGGATTACGAAAGCATGATCATGGCTGTTGTTCTGTTTATCTTGTTTTGACTGAGACTTGTTAGGATAGACGGTTTTTCATCACTGACTAGCCAAAGCCTTACTCTGCCTGACATCGACCGTAAATTGATAATGAATTTACATGCTTCCGCGACGATTTACCTCTTGATCATCGATCCGATTGAAGATCTTCAATTGTTAATTCTCTTGCCTCGACTCATAGCCATGATGAGCTCTTGATCATGTTTCCTTAACCCTCTATTTTTTACGGAAGAATGATCAAGCTGCTGCTCTTGATCATCGTTTC'\n",
    "Pattern = \"TGATCA\"\n",
    "if PatternCounter(ori, Pattern) == 8:\n",
    "    print('Answer is Correct')\n",
    "else:\n",
    "    print('Answer is wrong')\n",
    "\n"
   ]
  },
  {
   "cell_type": "markdown",
   "metadata": {},
   "source": [
    "###### 1.3.1 Printing the frequency in the Geno based on dictionary"
   ]
  },
  {
   "cell_type": "code",
   "execution_count": 98,
   "metadata": {},
   "outputs": [
    {
     "name": "stdout",
     "output_type": "stream",
     "text": [
      "{'CGA': 1, 'GAT': 1, 'ATA': 3, 'TAT': 2, 'ATC': 1, 'TCC': 1, 'CCA': 1, 'CAT': 1, 'TAG': 1}\n"
     ]
    }
   ],
   "source": [
    "# Create the dictionary first\n",
    "# based on the dictionary counting the pattern in the Text\n",
    "def FrequencyMap(Text, k_mers):\n",
    "    frequency = {}\n",
    "    total_len = len(Text)\n",
    "    for time in range(total_len - k_mers + 1):\n",
    "        Pattern = Text[time : time + k_mers]\n",
    "        # Create the dictionary first\n",
    "        frequency[Pattern] = 0\n",
    "        # Notice: this loop is in the dictionary for counting the pattern\n",
    "        for i in range(total_len - k_mers + 1):\n",
    "            if Text[i : i + k_mers] == Pattern:\n",
    "                # based on the dictionary counting the pattern in the Text\n",
    "                frequency[Pattern] = frequency[Pattern] + 1\n",
    "    return frequency\n",
    "\n",
    "print(FrequencyMap('CGATATATCCATAG',3))"
   ]
  },
  {
   "cell_type": "code",
   "execution_count": 99,
   "metadata": {},
   "outputs": [
    {
     "name": "stdout",
     "output_type": "stream",
     "text": [
      "Answer is Correct\n"
     ]
    }
   ],
   "source": [
    "#####################################################\n",
    "# Test for the FrequencyMap\n",
    "# The answer is {'CGA': 1, 'GAT': 1, 'ATA': 3, 'TAT': 2, 'ATC': 1, 'TCC': 1, 'CCA': 1, 'CAT': 1, 'TAG': 1}\n",
    "if FrequencyMap('CGATATATCCATAG',3) == {'CGA': 1, 'GAT': 1, 'ATA': 3, 'TAT': 2, 'ATC': 1, 'TCC': 1, 'CCA': 1, 'CAT': 1, 'TAG': 1}:\n",
    "    print('Answer is Correct')\n",
    "else:\n",
    "    print('Answer is wrong')\n"
   ]
  },
  {
   "cell_type": "markdown",
   "metadata": {},
   "source": [
    "###### 1.3.2 Printing the most frequent word in the Geno based on the frequency dictionary"
   ]
  },
  {
   "cell_type": "code",
   "execution_count": 100,
   "metadata": {},
   "outputs": [],
   "source": [
    "def FrequentWords(Text, k):\n",
    "    words = list()\n",
    "    freq = FrequencyMap(Text, k)\n",
    "    m = max(freq.values())\n",
    "    for key,value in freq.items():\n",
    "        if value == m:\n",
    "            words.append(key)\n",
    "    return words"
   ]
  },
  {
   "cell_type": "code",
   "execution_count": 101,
   "metadata": {},
   "outputs": [
    {
     "name": "stdout",
     "output_type": "stream",
     "text": [
      "Answer is Correct\n"
     ]
    }
   ],
   "source": [
    "#####################################################\n",
    "# Test for the FrequentWords\n",
    "# The answer is ['GCAT', 'CATG']\n",
    "if FrequentWords('ACGTTGCATGTCGCATGATGCATGAGAGCT',4) == ['GCAT', 'CATG']:\n",
    "    print('Answer is Correct')\n",
    "else:\n",
    "    print('Answer is wrong')"
   ]
  },
  {
   "cell_type": "code",
   "execution_count": 102,
   "metadata": {},
   "outputs": [
    {
     "name": "stdout",
     "output_type": "stream",
     "text": [
      "Answer is Correct\n"
     ]
    }
   ],
   "source": [
    "# Test for all previous\n",
    "if FrequentWords(ori,10) == ['CTCTTGATCA', 'TCTTGATCAT']:\n",
    "    print('Answer is Correct')\n",
    "else:\n",
    "    print('Answer is wrong')"
   ]
  },
  {
   "cell_type": "markdown",
   "metadata": {},
   "source": [
    "###### 1.4.1 Printing the reverse of Genome"
   ]
  },
  {
   "cell_type": "code",
   "execution_count": 103,
   "metadata": {},
   "outputs": [],
   "source": [
    "# Getting the reverse order of the Genome sequence\n",
    "def Reverse(Pattern):\n",
    "    reverse_p = ''\n",
    "    for item in Pattern[::-1]:\n",
    "        reverse_p += item\n",
    "    return reverse_p"
   ]
  },
  {
   "cell_type": "code",
   "execution_count": 104,
   "metadata": {},
   "outputs": [
    {
     "name": "stdout",
     "output_type": "stream",
     "text": [
      "Answer is Correct\n"
     ]
    }
   ],
   "source": [
    "# Test for reverse\n",
    "if Reverse('ACGT') == 'TGCA':\n",
    "    print('Answer is Correct')\n",
    "else:\n",
    "    print('Answer is wrong')"
   ]
  },
  {
   "cell_type": "markdown",
   "metadata": {},
   "source": [
    "###### 1.4.2 The complementary string of Pattern"
   ]
  },
  {
   "cell_type": "code",
   "execution_count": 105,
   "metadata": {},
   "outputs": [],
   "source": [
    "def Complement(Pattern):\n",
    "    basepairs = {\"A\":\"T\", \"G\":\"C\", \"T\":\"A\", \"C\":\"G\"}\n",
    "    complement = \"\"\n",
    "    for base in Pattern:\n",
    "        complement += basepairs[base]\n",
    "    return complement"
   ]
  },
  {
   "cell_type": "code",
   "execution_count": 106,
   "metadata": {},
   "outputs": [
    {
     "name": "stdout",
     "output_type": "stream",
     "text": [
      "Answer is Correct\n"
     ]
    }
   ],
   "source": [
    "# Test for Complement\n",
    "if Complement('AAAACCCGGT') == 'TTTTGGGCCA':\n",
    "    print('Answer is Correct')\n",
    "else:\n",
    "    print('Answer is wrong')"
   ]
  },
  {
   "cell_type": "markdown",
   "metadata": {},
   "source": [
    "###### 1.4.3 The reverse complement string of Pattern"
   ]
  },
  {
   "cell_type": "code",
   "execution_count": 107,
   "metadata": {},
   "outputs": [],
   "source": [
    "def ReverseComplement(Pattern):   \n",
    "    return Complement(Reverse(Pattern))"
   ]
  },
  {
   "cell_type": "code",
   "execution_count": 108,
   "metadata": {},
   "outputs": [
    {
     "name": "stdout",
     "output_type": "stream",
     "text": [
      "Answer is Correct\n"
     ]
    }
   ],
   "source": [
    "# Test for Complement\n",
    "\n",
    "if  ReverseComplement('AAAACCCGGT') == 'ACCGGGTTTT':\n",
    "    print('Answer is Correct')\n",
    "else:\n",
    "    print('Answer is wrong')"
   ]
  },
  {
   "cell_type": "markdown",
   "metadata": {},
   "source": [
    "###### 1.4.4 The start index of the pattern in the Genome"
   ]
  },
  {
   "cell_type": "code",
   "execution_count": 109,
   "metadata": {},
   "outputs": [],
   "source": [
    "def PatternMatching(Pattern, Genome):\n",
    "    positions = list() # output variable\n",
    "    for i in range(len(Genome)-len(Pattern)+1):\n",
    "        if Genome[i:i+len(Pattern)] == Pattern:\n",
    "           positions.append(i)\n",
    "    return positions"
   ]
  },
  {
   "cell_type": "code",
   "execution_count": 110,
   "metadata": {},
   "outputs": [
    {
     "name": "stdout",
     "output_type": "stream",
     "text": [
      "Answer is Correct\n"
     ]
    }
   ],
   "source": [
    "# Test for the pattern index of the Genome\n",
    "if PatternMatching('ATAT','GATATATGCATATACTT') == [1, 3, 9]:\n",
    "    print('Answer is Correct')\n",
    "else:\n",
    "    print('Answer is wrong')\n"
   ]
  },
  {
   "cell_type": "code",
   "execution_count": 119,
   "metadata": {},
   "outputs": [
    {
     "name": "stdout",
     "output_type": "stream",
     "text": [
      "0\n",
      "0\n"
     ]
    }
   ],
   "source": [
    "# Exercise in 1.5\n",
    "gemone = \"aactctatacctcctttttgtcgaatttgtgtgatttatagagaaaatcttattaactgaaactaaaatggtaggtttggtggtaggttttgtgtacattttgtagtatctgatttttaattacataccgtatattgtattaaattgacgaacaattgcatggaattgaatatatgcaaaacaaacctaccaccaaactctgtattgaccattttaggacaacttcagggtggtaggtttctgaagctctcatcaatagactattttagtctttacaaacaatattaccgttcagattcaagattctacaacgctgttttaatgggcgttgcagaaaacttaccacctaaaatccagtatccaagccgatttcagagaaacctaccacttacctaccacttacctaccacccgggtggtaagttgcagacattattaaaaacctcatcagaagcttgttcaaaaatttcaatactcgaaacctaccacctgcgtcccctattatttactactactaataatagcagtataattgatctga\"\n",
    "print(PatternCounter(gemone, 'ATGATCAAG'))\n",
    "print(PatternCounter(gemone, 'CTTGATCAT'))"
   ]
  },
  {
   "cell_type": "markdown",
   "metadata": {},
   "source": []
  }
 ],
 "metadata": {
  "interpreter": {
   "hash": "fc41597814ff85e0caced484d48bad3e0926c3d440aa194648a264b83f287c05"
  },
  "kernelspec": {
   "display_name": "Python 3.8.8 64-bit ('tf24': conda)",
   "language": "python",
   "name": "python3"
  },
  "language_info": {
   "codemirror_mode": {
    "name": "ipython",
    "version": 3
   },
   "file_extension": ".py",
   "mimetype": "text/x-python",
   "name": "python",
   "nbconvert_exporter": "python",
   "pygments_lexer": "ipython3",
   "version": "3.8.8"
  },
  "orig_nbformat": 4
 },
 "nbformat": 4,
 "nbformat_minor": 2
}
